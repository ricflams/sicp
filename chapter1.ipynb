{
 "cells": [
  {
   "cell_type": "markdown",
   "id": "aa2bae66",
   "metadata": {},
   "source": [
    "# Exercise 1.1\n",
    "Below is a sequence of statements. What is the result printed by the interpreter in response to each statement? Assume that the sequence is to be evaluated in the order in which it is presented."
   ]
  },
  {
   "cell_type": "code",
   "execution_count": 1,
   "id": "f5e8019f",
   "metadata": {},
   "outputs": [
    {
     "name": "stdout",
     "output_type": "stream",
     "text": [
      "exercise 1.1\n",
      "10 -> 10 💚\n",
      "(+ 5 3 4) -> 12 💚\n",
      "(- 9 1) -> 8 💚\n",
      "(/ 6 2) -> 3 💚\n",
      "(+ (* 2 4) (- 4 6)) -> 6 💚\n",
      "(+ a b (* a b)) -> 19 💚\n",
      "(= a b) -> #f 💚\n",
      "(if (and (> b a) (< b (* a b))) b a) -> 4 💚\n",
      "(cond ((= a 4) 5) ((= b 4) (+ 5 7 a)) (else 25)) -> 15 💚\n",
      "(+ 2 (if (> b a) b a)) -> 6 💚\n",
      "(* (cond ((> a b) a) ((< a b) b) (else -1)) (+ a 1)) -> 16 💚\n"
     ]
    }
   ],
   "source": [
    ";;#lang sicp\n",
    "(#%require \"util.rkt\")\n",
    "\n",
    ";; exercise 1.1\n",
    "(display \"exercise 1.1\\n\")\n",
    "\n",
    "(print-eval-verify\n",
    " 10\n",
    " 10)\n",
    "\n",
    "(print-eval-verify\n",
    " (+ 5 3 4)\n",
    " 12)\n",
    "\n",
    "(print-eval-verify\n",
    " (- 9 1)\n",
    " 8)\n",
    "\n",
    "(print-eval-verify\n",
    " (/ 6 2)\n",
    " 3)\n",
    "\n",
    "(print-eval-verify\n",
    " (+ (* 2 4) (- 4 6))\n",
    " 6)\n",
    "\n",
    "(define a 3)\n",
    "\n",
    "(define b (+ a 1))\n",
    "\n",
    "(print-eval-verify\n",
    " (+ a b (* a b))\n",
    " 19)\n",
    "\n",
    "(print-eval-verify\n",
    " (= a b)\n",
    " #f)\n",
    "\n",
    "(print-eval-verify\n",
    " (if (and (> b a) (< b (* a b)))\n",
    "     b\n",
    "     a)\n",
    " 4)\n",
    "\n",
    "(print-eval-verify\n",
    " (cond ((= a 4) 5)\n",
    "       ((= b 4) (+ 5 7 a))\n",
    "       (else 25))\n",
    " 15)\n",
    "\n",
    "(print-eval-verify\n",
    " (+ 2 (if (> b a) b a))\n",
    " 6)\n",
    "\n",
    "(print-eval-verify\n",
    " (* (cond ((> a b) a)\n",
    "          ((< a b) b)\n",
    "          (else -1))\n",
    "    (+ a 1))\n",
    " 16)"
   ]
  },
  {
   "cell_type": "code",
   "execution_count": null,
   "id": "bfe9947a",
   "metadata": {},
   "outputs": [],
   "source": []
  },
  {
   "cell_type": "code",
   "execution_count": null,
   "id": "e2617fc0",
   "metadata": {},
   "outputs": [],
   "source": []
  }
 ],
 "metadata": {
  "kernelspec": {
   "display_name": "Racket",
   "language": "racket",
   "name": "racket"
  },
  "language_info": {
   "codemirror_mode": "scheme",
   "file_extension": ".rkt",
   "mimetype": "text/x-racket",
   "name": "Racket",
   "pygments_lexer": "racket",
   "version": "8.2"
  }
 },
 "nbformat": 4,
 "nbformat_minor": 5
}
