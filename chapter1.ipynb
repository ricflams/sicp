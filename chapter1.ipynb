{
 "cells": [
  {
   "cell_type": "code",
   "execution_count": null,
   "id": "f5c8bbeb",
   "metadata": {},
   "outputs": [],
   "source": [
    "#lang racket\n",
    "(require sicp)"
   ]
  },
  {
   "cell_type": "markdown",
   "id": "02f359ff",
   "metadata": {},
   "source": [
    "# Exercise 1.1\n",
    "Below is a sequence of statements. What is the result printed by the interpreter in response to each statement? Assume that the sequence is to be evaluated in the order in which it is presented."
   ]
  },
  {
   "cell_type": "code",
   "execution_count": null,
   "id": "0e8b87fe",
   "metadata": {},
   "outputs": [],
   "source": [
    "(#%require \"util.rkt\")"
   ]
  },
  {
   "cell_type": "code",
   "execution_count": null,
   "id": "39b2f395",
   "metadata": {},
   "outputs": [],
   "source": [
    ";; exercise 1.1\n",
    "(display \"exercise 1.1\\n\")"
   ]
  },
  {
   "cell_type": "code",
   "execution_count": null,
   "id": "ff819c40",
   "metadata": {},
   "outputs": [],
   "source": [
    "(print-eval-verify\n",
    " 10\n",
    " 10)"
   ]
  },
  {
   "cell_type": "code",
   "execution_count": null,
   "id": "a1d0fd25",
   "metadata": {},
   "outputs": [],
   "source": [
    "(print-eval-verify\n",
    " (+ 5 3 4)\n",
    " 12)"
   ]
  },
  {
   "cell_type": "code",
   "execution_count": null,
   "id": "0a7a0e8b",
   "metadata": {},
   "outputs": [],
   "source": [
    "(print-eval-verify\n",
    " (- 9 1)\n",
    " 8)"
   ]
  },
  {
   "cell_type": "code",
   "execution_count": null,
   "id": "b62714a5",
   "metadata": {},
   "outputs": [],
   "source": [
    "(print-eval-verify\n",
    " (/ 6 2)\n",
    " 3)"
   ]
  },
  {
   "cell_type": "code",
   "execution_count": null,
   "id": "6390e16c",
   "metadata": {},
   "outputs": [],
   "source": [
    "(print-eval-verify\n",
    " (+ (* 2 4) (- 4 6))\n",
    " 6)"
   ]
  },
  {
   "cell_type": "code",
   "execution_count": null,
   "id": "c1f35a7c",
   "metadata": {},
   "outputs": [],
   "source": [
    "(define a 3)"
   ]
  },
  {
   "cell_type": "code",
   "execution_count": null,
   "id": "1fdaee17",
   "metadata": {},
   "outputs": [],
   "source": [
    "(define b (+ a 1))"
   ]
  },
  {
   "cell_type": "code",
   "execution_count": null,
   "id": "780bbe1b",
   "metadata": {},
   "outputs": [],
   "source": [
    "(print-eval-verify\n",
    " (+ a b (* a b))\n",
    " 19)"
   ]
  },
  {
   "cell_type": "code",
   "execution_count": null,
   "id": "08130796",
   "metadata": {},
   "outputs": [],
   "source": [
    "(print-eval-verify\n",
    " (= a b)\n",
    " #f)"
   ]
  },
  {
   "cell_type": "code",
   "execution_count": null,
   "id": "e4f31869",
   "metadata": {},
   "outputs": [],
   "source": [
    "(print-eval-verify\n",
    " (if (and (> b a) (< b (* a b)))\n",
    "     b\n",
    "     a)\n",
    " 4)"
   ]
  },
  {
   "cell_type": "code",
   "execution_count": null,
   "id": "3d383afd",
   "metadata": {},
   "outputs": [],
   "source": [
    "(print-eval-verify\n",
    " (cond ((= a 4) 5)\n",
    "       ((= b 4) (+ 5 7 a))\n",
    "       (else 25))\n",
    " 15)"
   ]
  },
  {
   "cell_type": "code",
   "execution_count": null,
   "id": "d432e7e9",
   "metadata": {},
   "outputs": [],
   "source": [
    "(print-eval-verify\n",
    " (+ 2 (if (> b a) b a))\n",
    " 6)"
   ]
  },
  {
   "cell_type": "code",
   "execution_count": null,
   "id": "88902ee2",
   "metadata": {},
   "outputs": [],
   "source": [
    "(print-eval-verify\n",
    " (* (cond ((> a b) a)\n",
    "          ((< a b) b)\n",
    "          (else -1))\n",
    "    (+ a 1))\n",
    " 16)"
   ]
  }
 ],
 "metadata": {
  "jupytext": {
   "main_language": "racket",
   "notebook_metadata_filter": "language_info"
  },
  "language_info": {
   "codemirror_mode": "scheme",
   "file_extension": ".rkt",
   "mimetype": "text/x-scheme",
   "name": "racket"
  }
 },
 "nbformat": 4,
 "nbformat_minor": 5
}
